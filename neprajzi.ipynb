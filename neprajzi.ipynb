{
 "cells": [
  {
   "cell_type": "code",
   "execution_count": 1,
   "metadata": {},
   "outputs": [
    {
     "name": "stdout",
     "output_type": "stream",
     "text": [
      "statistics\n",
      "ok: 26692\n",
      "junk: 9696\n",
      "others: 2075\n",
      "no dates: 328\n"
     ]
    }
   ],
   "source": [
    "import pandas as pd\r\n",
    "\r\n",
    "# Create statistics\r\n",
    "df2 = pd.read_excel(\"./torzskonyv_explode.xlsx\")\r\n",
    "# parsed ok\r\n",
    "ok_filter = (df2['ok']==True) & (df2['drop']==False)\r\n",
    "\r\n",
    "# leftover junk\r\n",
    "junk_filter = df2['drop']==True\r\n",
    "\r\n",
    "# unparsed\r\n",
    "need_attention_filter = (df2['ok']==False) & (df2['drop']==False)\r\n",
    "\r\n",
    "print(\"statistics\")\r\n",
    "print(\"ok:\", sum(ok_filter))\r\n",
    "print(\"junk:\", sum(junk_filter))\r\n",
    "print(\"others:\", sum(need_attention_filter))\r\n",
    "print(\"no dates:\", sum(df2['year'].isna()))"
   ]
  },
  {
   "cell_type": "code",
   "execution_count": 23,
   "metadata": {},
   "outputs": [],
   "source": [
    "del_filter =  df2['inventory'].apply(lambda cell: \"tör\" in cell.lower() if isinstance(cell, str) else False)\r\n",
    "delete_sheet = df2[del_filter]"
   ]
  },
  {
   "cell_type": "code",
   "execution_count": null,
   "metadata": {},
   "outputs": [],
   "source": []
  }
 ],
 "metadata": {
  "interpreter": {
   "hash": "7f548013dbd014ccd616e6d7246321b1e2d0086bf489ee44dc286fa55209a7ee"
  },
  "kernelspec": {
   "display_name": "Python 3.9.5 64-bit",
   "name": "python3"
  },
  "language_info": {
   "name": "python",
   "version": ""
  },
  "orig_nbformat": 4
 },
 "nbformat": 4,
 "nbformat_minor": 2
}