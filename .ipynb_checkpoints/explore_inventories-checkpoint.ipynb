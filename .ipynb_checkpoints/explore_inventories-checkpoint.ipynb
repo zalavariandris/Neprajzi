{
 "cells": [
  {
   "cell_type": "code",
   "execution_count": 1,
   "metadata": {},
   "outputs": [],
   "source": [
    "from IPython.display import display, HTML\n",
    "import pandas as pd\n",
    "import re"
   ]
  },
  {
   "cell_type": "markdown",
   "metadata": {},
   "source": [
    "# Explore inventories and explode obvious entries"
   ]
  },
  {
   "cell_type": "markdown",
   "metadata": {},
   "source": [
    "## Read database with clean dates"
   ]
  },
  {
   "cell_type": "code",
   "execution_count": 2,
   "metadata": {},
   "outputs": [
    {
     "data": {
      "text/html": [
       "<h2>Sheet with cleaned year</h2>"
      ],
      "text/plain": [
       "<IPython.core.display.HTML object>"
      ]
     },
     "metadata": {},
     "output_type": "display_data"
    },
    {
     "data": {
      "text/html": [
       "<div>\n",
       "<style scoped>\n",
       "    .dataframe tbody tr th:only-of-type {\n",
       "        vertical-align: middle;\n",
       "    }\n",
       "\n",
       "    .dataframe tbody tr th {\n",
       "        vertical-align: top;\n",
       "    }\n",
       "\n",
       "    .dataframe thead th {\n",
       "        text-align: right;\n",
       "    }\n",
       "</style>\n",
       "<table border=\"1\" class=\"dataframe\">\n",
       "  <thead>\n",
       "    <tr style=\"text-align: right;\">\n",
       "      <th></th>\n",
       "      <th>Unnamed: 0</th>\n",
       "      <th>Összes darab</th>\n",
       "      <th>Törzskönyvi szám</th>\n",
       "      <th>Megszerzés ideje</th>\n",
       "      <th>Leltárcsoport</th>\n",
       "      <th>year</th>\n",
       "    </tr>\n",
       "  </thead>\n",
       "  <tbody>\n",
       "    <tr>\n",
       "      <th>0</th>\n",
       "      <td>0</td>\n",
       "      <td>48.0</td>\n",
       "      <td>1874/0001</td>\n",
       "      <td>1874</td>\n",
       "      <td>2209-2211 Amerika gyűjtemény, 2212-2215 Törlés...</td>\n",
       "      <td>1874.0</td>\n",
       "    </tr>\n",
       "    <tr>\n",
       "      <th>1</th>\n",
       "      <td>1</td>\n",
       "      <td>1456.0</td>\n",
       "      <td>1874/0002</td>\n",
       "      <td>1874</td>\n",
       "      <td>1-10 Ázsia gyűjtemény, 19-84 Ázsia gyűjtemény,...</td>\n",
       "      <td>1874.0</td>\n",
       "    </tr>\n",
       "    <tr>\n",
       "      <th>2</th>\n",
       "      <td>2</td>\n",
       "      <td>283.0</td>\n",
       "      <td>1874/0003</td>\n",
       "      <td>1874</td>\n",
       "      <td>11-18 Ázsia gyűjtemény, 158-169 Ázsia gyűjtemé...</td>\n",
       "      <td>1874.0</td>\n",
       "    </tr>\n",
       "    <tr>\n",
       "      <th>3</th>\n",
       "      <td>3</td>\n",
       "      <td>45.0</td>\n",
       "      <td>1874/0004</td>\n",
       "      <td>1874</td>\n",
       "      <td>235-240 Ázsia gyűjtemény, 332-334 Ázsia gyűjte...</td>\n",
       "      <td>1874.0</td>\n",
       "    </tr>\n",
       "    <tr>\n",
       "      <th>4</th>\n",
       "      <td>4</td>\n",
       "      <td>1.0</td>\n",
       "      <td>1874/0005</td>\n",
       "      <td>1874</td>\n",
       "      <td>170 Ázsia gyűjtemény</td>\n",
       "      <td>1874.0</td>\n",
       "    </tr>\n",
       "    <tr>\n",
       "      <th>...</th>\n",
       "      <td>...</td>\n",
       "      <td>...</td>\n",
       "      <td>...</td>\n",
       "      <td>...</td>\n",
       "      <td>...</td>\n",
       "      <td>...</td>\n",
       "    </tr>\n",
       "    <tr>\n",
       "      <th>11766</th>\n",
       "      <td>11766</td>\n",
       "      <td>59.0</td>\n",
       "      <td>2021/0014</td>\n",
       "      <td>NaN</td>\n",
       "      <td>2021.20.1-44 Ázsia gyűjtemény, 2021.21.1-2 Eur...</td>\n",
       "      <td>NaN</td>\n",
       "    </tr>\n",
       "    <tr>\n",
       "      <th>11767</th>\n",
       "      <td>11767</td>\n",
       "      <td>1.0</td>\n",
       "      <td>2021/0015</td>\n",
       "      <td>2005</td>\n",
       "      <td>2021.23.1 Bútor gyűjtemény</td>\n",
       "      <td>2005.0</td>\n",
       "    </tr>\n",
       "    <tr>\n",
       "      <th>11768</th>\n",
       "      <td>11768</td>\n",
       "      <td>2.0</td>\n",
       "      <td>2021/0016</td>\n",
       "      <td>2021-03-05 00:00:00</td>\n",
       "      <td>??? Halászat gyűjtemény</td>\n",
       "      <td>2021.0</td>\n",
       "    </tr>\n",
       "    <tr>\n",
       "      <th>11769</th>\n",
       "      <td>11769</td>\n",
       "      <td>3.0</td>\n",
       "      <td>2021/0017</td>\n",
       "      <td>NaN</td>\n",
       "      <td>??? Bútor gyűjtemény</td>\n",
       "      <td>NaN</td>\n",
       "    </tr>\n",
       "    <tr>\n",
       "      <th>11770</th>\n",
       "      <td>11770</td>\n",
       "      <td>1.0</td>\n",
       "      <td>2021/0018</td>\n",
       "      <td>2021-05-10 00:00:00</td>\n",
       "      <td>??? Textil gyűjtemény</td>\n",
       "      <td>2021.0</td>\n",
       "    </tr>\n",
       "  </tbody>\n",
       "</table>\n",
       "<p>11771 rows × 6 columns</p>\n",
       "</div>"
      ],
      "text/plain": [
       "       Unnamed: 0  Összes darab Törzskönyvi szám     Megszerzés ideje  \\\n",
       "0               0          48.0        1874/0001                 1874   \n",
       "1               1        1456.0        1874/0002                 1874   \n",
       "2               2         283.0        1874/0003                 1874   \n",
       "3               3          45.0        1874/0004                 1874   \n",
       "4               4           1.0        1874/0005                 1874   \n",
       "...           ...           ...              ...                  ...   \n",
       "11766       11766          59.0        2021/0014                  NaN   \n",
       "11767       11767           1.0        2021/0015                 2005   \n",
       "11768       11768           2.0        2021/0016  2021-03-05 00:00:00   \n",
       "11769       11769           3.0        2021/0017                  NaN   \n",
       "11770       11770           1.0        2021/0018  2021-05-10 00:00:00   \n",
       "\n",
       "                                           Leltárcsoport    year  \n",
       "0      2209-2211 Amerika gyűjtemény, 2212-2215 Törlés...  1874.0  \n",
       "1      1-10 Ázsia gyűjtemény, 19-84 Ázsia gyűjtemény,...  1874.0  \n",
       "2      11-18 Ázsia gyűjtemény, 158-169 Ázsia gyűjtemé...  1874.0  \n",
       "3      235-240 Ázsia gyűjtemény, 332-334 Ázsia gyűjte...  1874.0  \n",
       "4                                   170 Ázsia gyűjtemény  1874.0  \n",
       "...                                                  ...     ...  \n",
       "11766  2021.20.1-44 Ázsia gyűjtemény, 2021.21.1-2 Eur...     NaN  \n",
       "11767                         2021.23.1 Bútor gyűjtemény  2005.0  \n",
       "11768                            ??? Halászat gyűjtemény  2021.0  \n",
       "11769                               ??? Bútor gyűjtemény     NaN  \n",
       "11770                              ??? Textil gyűjtemény  2021.0  \n",
       "\n",
       "[11771 rows x 6 columns]"
      ]
     },
     "metadata": {},
     "output_type": "display_data"
    }
   ],
   "source": [
    "df = pd.read_excel(\"./torzskonyv_clean_dates.xlsx\")\n",
    "\n",
    "display(HTML(\"<h2>Sheet with cleaned year</h2>\"))\n",
    "display(df)"
   ]
  },
  {
   "cell_type": "markdown",
   "metadata": {},
   "source": [
    "## Read inventory names from text file"
   ]
  },
  {
   "cell_type": "code",
   "execution_count": 3,
   "metadata": {},
   "outputs": [
    {
     "data": {
      "text/html": [
       "<h2>Inventories</h2>"
      ],
      "text/plain": [
       "<IPython.core.display.HTML object>"
      ]
     },
     "metadata": {},
     "output_type": "display_data"
    },
    {
     "name": "stdout",
     "output_type": "stream",
     "text": [
      "Adattár, Afrika gyűjtemény, Amerika gyűjtemény, Bútor gyűjtemény, Egyház gyűjtemény, Egyházi gyűjtemény, Európa gyűjtemény, Földművelés, Gyűjtögetés gyűjtemény, Hagyomány, Halászat gyűjtemény, Hangszer, Hangszer Népzene gyűjtemény, Hangszer gyűjtemény, Hangszer gyűjtemény (Népzene oszt.), Hangszer gyűjtemény (Népzene), Indonézia gyűjtemény, Kerámia gyűjtemény, Kézirat-gyűjtemény, Közlekedés gyűjtemény, Mesterség gyűjtemény, Nyomatgyűjtemény, Népzene (Hangszer) gyűjtemény, Népzene gyűjtemény, Népzene gyűjtemény (Hangszer), Rajz és Nyomat gyűjtemény, Szokás gyűjtemény, Szokás hagyomány, Szokás és játékgyűjtem, Textil gyűjtemény, Textil- és viseletgy., Textilgyűjtemény, Táplálkozás gyűjtemény, Táplálkozás gyűjtemény, fényképgyűjtemény, nyomat gyűjtemény, rajz- és nyomatgyűjtemény, rajzgyűjtemény, Állattartás gyűjtemény, Állattartás-pásztorm., Átány gyűjtemény, Ázsia gyűjtemény, Építkezés gyűjtemény, Óceánia gyűjtemény\n"
     ]
    }
   ],
   "source": [
    "from pathlib import Path\n",
    "def read_inventories(filename:str):\n",
    "    assert Path(filename).exists()\n",
    "    def lines(filename):\n",
    "        with open(filename, encoding=\"utf8\") as f:\n",
    "            for line in f:\n",
    "                line = line.strip()\n",
    "                if line:\n",
    "                    yield line\n",
    "\n",
    "    for l in lines(filename):\n",
    "        yield l\n",
    "\n",
    "from IPython.display import display, HTML\n",
    "inventories = sorted([l for l in read_inventories(\"elnevezesek.txt\")])\n",
    "\n",
    "display(HTML(\"<h2>Inventories</h2>\"))\n",
    "print(\", \".join(inventories))"
   ]
  },
  {
   "cell_type": "markdown",
   "metadata": {},
   "source": [
    "## Generate regexp Patterns for each inventory"
   ]
  },
  {
   "cell_type": "code",
   "execution_count": 4,
   "metadata": {},
   "outputs": [
    {
     "data": {
      "text/html": [
       "<h2>Patterns</h2>"
      ],
      "text/plain": [
       "<IPython.core.display.HTML object>"
      ]
     },
     "metadata": {},
     "output_type": "display_data"
    },
    {
     "name": "stdout",
     "output_type": "stream",
     "text": [
      "\\d+?-\\d+? Adattár\n",
      "\\d+?-\\d+? Afrika gyűjtemény\n",
      "\\d+?-\\d+? Amerika gyűjtemény\n",
      "\\d+?-\\d+? Bútor gyűjtemény\n",
      "\\d+?-\\d+? Egyház gyűjtemény\n",
      "\\d+?-\\d+? Egyházi gyűjtemény\n",
      "\\d+?-\\d+? Európa gyűjtemény\n",
      "\\d+?-\\d+? Földművelés\n",
      "\\d+?-\\d+? Gyűjtögetés gyűjtemény\n",
      "\\d+?-\\d+? Hagyomány\n",
      "...\n"
     ]
    }
   ],
   "source": [
    "patterns = [\n",
    "    *[\"\\d+?-\\d+? {inventory}\".format(inventory=inventory) for inventory in inventories],\n",
    "    *[\"\\d+? {inventory}\".format(inventory=inventory) for inventory in inventories],\n",
    "    *[\"\\d+?\\.\\d+?\\.\\d+?\\.\\d+?-\\d+? {inventory}\".format(inventory=inventory) for inventory in inventories], #\"2021.4.1.1-2\", 2021.4.1.1-2 Egyházi gyűjtemény\n",
    "    *[\"\\d+?\\.\\d+?\\.\\d+?-\\d+? {inventory}\".format(inventory=inventory) for inventory in inventories], \n",
    "    *[\"\\d+?\\.\\d+?\\.\\d+? {inventory}\".format(inventory=inventory) for inventory in inventories],\n",
    "    \n",
    "    \"F \\d+? Fényképgyűjtemény\", # F 71857 Rajzgyűjtemény\n",
    "    \"F \\d+?-\\d+? Fényképgyűjtemény\", # F 71611-71644 Fényképgyűjtemény\n",
    "    \"\\d+?-\\d+? \\(.+?\\) Fényképgyűjtemény\",\n",
    "    \"\\d+?-\\d+? \\(.+?\\) Fényképgyűjt.\",\n",
    "    \"\\d+? \\(F\\d+?\\) Fényképgyűjtemény\",\n",
    "\n",
    "    \"\\d+?-\\d+? \\(.+?\\) Rajzgyűjtemény\", \n",
    "    \"\\d+? \\(.+?\\) Rajzgyűjtemény\" # 97339 (R10530) Rajzgyűjtemény\n",
    "    \"F \\d+? Rajzgyűjtemény\", # F 71857 Rajzgyűjtemény\n",
    "\n",
    "    \"\\d+?-\\d+? \\(.+?\\) Adattár\" # 4776-4777 (F 2881-F 2882) Adattár\n",
    "]\n",
    "\n",
    "# show\n",
    "display(HTML(\"<h2>Patterns</h2>\"))\n",
    "print(\"\\n\".join(patterns[:10])+\"\\n...\")"
   ]
  },
  {
   "cell_type": "markdown",
   "metadata": {},
   "source": [
    "## Extract all matches from Inventory column by patterns"
   ]
  },
  {
   "cell_type": "code",
   "execution_count": 5,
   "metadata": {},
   "outputs": [],
   "source": [
    "from typing import List, Tuple\n",
    "\n",
    "def extract_all_match(text: str, patterns:List[str])->Tuple[List['str'], 'str']:\n",
    "    if not isinstance(text, str):\n",
    "        return text\n",
    "    \n",
    "    pattern = re.compile( \"|\".join( [\"{}\".format(p) for p in patterns] ), re.I )\n",
    "\n",
    "    matches = [m for m in pattern.finditer(text)]\n",
    "    if not len(matches):\n",
    "        return text\n",
    "\n",
    "    results = []\n",
    "    leftover = text\n",
    "    for match in reversed(matches):\n",
    "        results.append( text[match.start():match.end()] )\n",
    "        leftover = leftover[0:match.start()] + \"[...]\" + leftover[match.end():-1]\n",
    "\n",
    "    return [*[res for res in reversed(results)], leftover]\n",
    "    \n",
    "def last_item(lst: list):\n",
    "    if isinstance(lst, list) and len(lst)>0:\n",
    "        return lst[-1]\n",
    "    else:\n",
    "        return lst\n",
    "\n",
    "def test_extraction():\n",
    "    column = \"Leltárcsoport\"\n",
    "\n",
    "    cell = df[column][0]\n",
    "    results = extract_all_match(cell, patterns)\n",
    "\n",
    "    assert \"2209-2211 Amerika gyűjtemény\" in results, results\n",
    "    assert \"2222 Amerika gyűjtemény\" in results\n",
    "    assert \"2256-2258 Óceánia gyűjtemény\" in results\n",
    "    assert \"4002 Óceánia gyűjtemény\" in results\n",
    "    \n",
    "    cell = df[column][176]\n",
    "    results = extract_all_match(cell, patterns)\n",
    "    assert \"10946-10947 Gyűjtögetés gyűjtemény\" in results\n",
    "\n",
    "    cell = df[column][177]\n",
    "    results = extract_all_match(cell, patterns)\n",
    "    assert \"12818-12843 (F1259-F1274, F5219-F5228) Fényképgyűjtemény\" in results\n",
    "\n",
    "    cell = df[column][11579]\n",
    "    results = extract_all_match(cell, patterns)\n",
    "    assert \"2019.27.6.1-2 Textil gyűjtemény\" in results\n",
    "    assert \"2019.27.5 Amerika gyűjtemény\" in results\n",
    "\n",
    "test_extraction()\n",
    "\n",
    "# do whole column\n",
    "inventory_series = df[\"Leltárcsoport\"].apply(lambda cell:extract_all_match(cell, patterns))"
   ]
  },
  {
   "cell_type": "code",
   "execution_count": 6,
   "metadata": {},
   "outputs": [
    {
     "data": {
      "text/html": [
       "<div>\n",
       "<style scoped>\n",
       "    .dataframe tbody tr th:only-of-type {\n",
       "        vertical-align: middle;\n",
       "    }\n",
       "\n",
       "    .dataframe tbody tr th {\n",
       "        vertical-align: top;\n",
       "    }\n",
       "\n",
       "    .dataframe thead th {\n",
       "        text-align: right;\n",
       "    }\n",
       "</style>\n",
       "<table border=\"1\" class=\"dataframe\">\n",
       "  <thead>\n",
       "    <tr style=\"text-align: right;\">\n",
       "      <th></th>\n",
       "      <th>year</th>\n",
       "      <th>inventory</th>\n",
       "    </tr>\n",
       "  </thead>\n",
       "  <tbody>\n",
       "    <tr>\n",
       "      <th>0</th>\n",
       "      <td>1874.0</td>\n",
       "      <td>2209-2211 Amerika gyűjtemény</td>\n",
       "    </tr>\n",
       "    <tr>\n",
       "      <th>0</th>\n",
       "      <td>1874.0</td>\n",
       "      <td>2216-2217 Amerika gyűjtemény</td>\n",
       "    </tr>\n",
       "    <tr>\n",
       "      <th>0</th>\n",
       "      <td>1874.0</td>\n",
       "      <td>2222 Amerika gyűjtemény</td>\n",
       "    </tr>\n",
       "    <tr>\n",
       "      <th>0</th>\n",
       "      <td>1874.0</td>\n",
       "      <td>2223-2253 Amerika gyűjtemény</td>\n",
       "    </tr>\n",
       "    <tr>\n",
       "      <th>0</th>\n",
       "      <td>1874.0</td>\n",
       "      <td>2256-2258 Óceánia gyűjtemény</td>\n",
       "    </tr>\n",
       "    <tr>\n",
       "      <th>...</th>\n",
       "      <td>...</td>\n",
       "      <td>...</td>\n",
       "    </tr>\n",
       "    <tr>\n",
       "      <th>11767</th>\n",
       "      <td>2005.0</td>\n",
       "      <td>2021.23.1 Bútor gyűjtemény</td>\n",
       "    </tr>\n",
       "    <tr>\n",
       "      <th>11767</th>\n",
       "      <td>2005.0</td>\n",
       "      <td>[...]</td>\n",
       "    </tr>\n",
       "    <tr>\n",
       "      <th>11768</th>\n",
       "      <td>2021.0</td>\n",
       "      <td>??? Halászat gyűjtemény</td>\n",
       "    </tr>\n",
       "    <tr>\n",
       "      <th>11769</th>\n",
       "      <td>NaN</td>\n",
       "      <td>??? Bútor gyűjtemény</td>\n",
       "    </tr>\n",
       "    <tr>\n",
       "      <th>11770</th>\n",
       "      <td>2021.0</td>\n",
       "      <td>??? Textil gyűjtemény</td>\n",
       "    </tr>\n",
       "  </tbody>\n",
       "</table>\n",
       "<p>38778 rows × 2 columns</p>\n",
       "</div>"
      ],
      "text/plain": [
       "         year                     inventory\n",
       "0      1874.0  2209-2211 Amerika gyűjtemény\n",
       "0      1874.0  2216-2217 Amerika gyűjtemény\n",
       "0      1874.0       2222 Amerika gyűjtemény\n",
       "0      1874.0  2223-2253 Amerika gyűjtemény\n",
       "0      1874.0  2256-2258 Óceánia gyűjtemény\n",
       "...       ...                           ...\n",
       "11767  2005.0    2021.23.1 Bútor gyűjtemény\n",
       "11767  2005.0                         [...]\n",
       "11768  2021.0       ??? Halászat gyűjtemény\n",
       "11769     NaN          ??? Bútor gyűjtemény\n",
       "11770  2021.0         ??? Textil gyűjtemény\n",
       "\n",
       "[38778 rows x 2 columns]"
      ]
     },
     "execution_count": 6,
     "metadata": {},
     "output_type": "execute_result"
    }
   ],
   "source": [
    "# explode inventories\n",
    "df2 = df.copy()\n",
    "df2['inventory'] = inventory_series\n",
    "df2 = df2[['year', 'inventory']].explode(column='inventory')\n",
    "\n",
    "df2"
   ]
  },
  {
   "cell_type": "markdown",
   "metadata": {},
   "source": [
    "\n",
    "# Mark cleaned inventory rows"
   ]
  },
  {
   "cell_type": "code",
   "execution_count": 9,
   "metadata": {},
   "outputs": [
    {
     "name": "stdout",
     "output_type": "stream",
     "text": [
      "parsed: 70%, 27007 from 38778\n"
     ]
    }
   ],
   "source": [
    "def is_exact_match(text: str, patterns:List[str])->List[bool]:\n",
    "    if not isinstance(text, str):\n",
    "        return False\n",
    "    pattern = re.compile( \"|\".join( [\"^{}$\".format(p) for p in patterns] ), re.I )\n",
    "    matches = [m for m in pattern.findall(text)]\n",
    "    return len(matches)>0\n",
    "\n",
    "df2['ok'] = df2['inventory'].apply(lambda cell: is_exact_match(cell, patterns))\n",
    "\n",
    "print(\"parsed: {:.0f}%, {} from {}\".format(sum(df2['ok'])/len(df2)*100, sum(df2['ok']), len(df2)))"
   ]
  },
  {
   "cell_type": "code",
   "execution_count": 10,
   "metadata": {},
   "outputs": [],
   "source": [
    "df2.to_excel(\"./torzskonyv_explode.xlsx\")"
   ]
  },
  {
   "cell_type": "code",
   "execution_count": 11,
   "metadata": {},
   "outputs": [
    {
     "data": {
      "text/plain": [
       "['7061-7064 (F492-F495) Fényképgyűjtemény',\n",
       " '8967-8974 (F905-F912) Fényképgyűjtemény']"
      ]
     },
     "execution_count": 11,
     "metadata": {},
     "output_type": "execute_result"
    }
   ],
   "source": [
    "import re\n",
    "cell = \"7061-7064 (F492-F495) Fényképgyűjtemény, 7068 Európa gyűjtemény, 8960 Ázsiai textil gyűjtemény, 8961-8962 Ázsia?, 8963-8965 Ázsia gyűjtemény, 8966 Ázsia?, 8967-8974 (F905-F912) Fényképgyűjtemény\"\n",
    "\n",
    "re.findall(\"\\d+-\\d+ \\(.+?\\) Fényképgyűjtemény\", cell)"
   ]
  },
  {
   "cell_type": "code",
   "execution_count": 21,
   "metadata": {},
   "outputs": [
    {
     "data": {
      "text/plain": [
       "2"
      ]
     },
     "execution_count": 21,
     "metadata": {},
     "output_type": "execute_result"
    }
   ],
   "source": [
    "cell = \"9358-9359 Mesterség gyűjtemény\"\n",
    "p = re.compile(\"(\\d+)-(\\d+) (Mesterség gyűjtemény)\")\n",
    "match = p.match(cell)\n",
    "\n",
    "int(match.groups()[1]) - int(match.groups()[0]) + 1"
   ]
  },
  {
   "cell_type": "code",
   "execution_count": 41,
   "metadata": {},
   "outputs": [
    {
     "name": "stdout",
     "output_type": "stream",
     "text": [
      "['F1119-F1219', 'F5199-F5202', 'F184007-F184010', 'F5207-F5197']\n"
     ]
    }
   ],
   "source": [
    "cell = \"11135-11235 (F1119-F1219, F5199-F5202, F184007-F184010, F5204, F5205, F5207-F5197) Fényképgyűjtemény\"\n",
    "pattern = re.compile(\"(F\\d+-F\\d+)\")\n",
    "match = pattern.findall(cell)\n",
    "\n",
    "print(match)"
   ]
  },
  {
   "cell_type": "code",
   "execution_count": null,
   "metadata": {},
   "outputs": [],
   "source": []
  },
  {
   "cell_type": "code",
   "execution_count": null,
   "metadata": {},
   "outputs": [],
   "source": []
  }
 ],
 "metadata": {
  "interpreter": {
   "hash": "7f548013dbd014ccd616e6d7246321b1e2d0086bf489ee44dc286fa55209a7ee"
  },
  "kernelspec": {
   "display_name": "Python 3 (ipykernel)",
   "language": "python",
   "name": "python3"
  },
  "language_info": {
   "codemirror_mode": {
    "name": "ipython",
    "version": 3
   },
   "file_extension": ".py",
   "mimetype": "text/x-python",
   "name": "python",
   "nbconvert_exporter": "python",
   "pygments_lexer": "ipython3",
   "version": "3.9.5"
  }
 },
 "nbformat": 4,
 "nbformat_minor": 2
}
